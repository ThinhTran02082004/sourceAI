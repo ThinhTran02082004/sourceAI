{
 "cells": [
  {
   "cell_type": "code",
   "execution_count": 27,
   "metadata": {},
   "outputs": [],
   "source": [
    "import pandas as pd\n",
    "import numpy as np"
   ]
  },
  {
   "cell_type": "code",
   "execution_count": 28,
   "metadata": {},
   "outputs": [],
   "source": [
    "pd.set_option('display.max_colwidth', None)"
   ]
  },
  {
   "cell_type": "code",
   "execution_count": 29,
   "metadata": {},
   "outputs": [],
   "source": [
    "df = pd.read_excel('preprocessed_data.xlsx')"
   ]
  },
  {
   "cell_type": "code",
   "execution_count": 30,
   "metadata": {},
   "outputs": [
    {
     "data": {
      "text/html": [
       "<div>\n",
       "<style scoped>\n",
       "    .dataframe tbody tr th:only-of-type {\n",
       "        vertical-align: middle;\n",
       "    }\n",
       "\n",
       "    .dataframe tbody tr th {\n",
       "        vertical-align: top;\n",
       "    }\n",
       "\n",
       "    .dataframe thead th {\n",
       "        text-align: right;\n",
       "    }\n",
       "</style>\n",
       "<table border=\"1\" class=\"dataframe\">\n",
       "  <thead>\n",
       "    <tr style=\"text-align: right;\">\n",
       "      <th></th>\n",
       "      <th>old_data</th>\n",
       "      <th>label</th>\n",
       "      <th>tranform_data</th>\n",
       "      <th>new_label</th>\n",
       "    </tr>\n",
       "  </thead>\n",
       "  <tbody>\n",
       "    <tr>\n",
       "      <th>0</th>\n",
       "      <td>sài tốt, pin ngon, máy mạnh, màn hình không thời thượng bằng s10, nhưng camera, mọi thứ là ngon quá sức mong đợi</td>\n",
       "      <td>1</td>\n",
       "      <td>sài tốt pin ngon máy mạnh màn_hình không thời_thượng bằng s10 nhưng camera mọi thứ là ngon quá_sức mong_đợi</td>\n",
       "      <td>Tích cực</td>\n",
       "    </tr>\n",
       "    <tr>\n",
       "      <th>1</th>\n",
       "      <td>đẹp, nhiều chức năng bảo mật rất hay. mua dùm cho bà thím, bà rất ưng ý. ok</td>\n",
       "      <td>1</td>\n",
       "      <td>đẹp nhiều chức_năng bảo_mật rất hay mua dùm cho bà thím bà rất ưng_ý ok</td>\n",
       "      <td>Tích cực</td>\n",
       "    </tr>\n",
       "    <tr>\n",
       "      <th>2</th>\n",
       "      <td>0 biết có phải do tương thích, mà máy ASUS X407 nhận nó rất cực, cho mỗi lần setup win mà phải install nó lại vào thiết bị bluetooth phải cả 30min mới nhận trong danh sách bluetooth. Nhận xong thì lúc tắt máy tính, lần sau nó còn đó, mà phải nhấn nút bluetooth vài lần, nó mới chạy lại. Win mình đang dùng bản 1809 bản quyền ASUS....</td>\n",
       "      <td>2</td>\n",
       "      <td>0 biết có phải do tương_thích mà máy asus x407 nhận nó rất cực cho mỗi lần setup win mà phải install nó lại vào thiết_bị bluetooth phải cả 30min mới nhận trong danh_sách bluetooth nhận xong thì lúc tắt máy_tính lần sau nó còn đó mà phải nhấn nút bluetooth vài lần nó mới chạy lại win mình đang dùng bản 1809 bản_quyền asus</td>\n",
       "      <td>Tích cực</td>\n",
       "    </tr>\n",
       "    <tr>\n",
       "      <th>3</th>\n",
       "      <td>0 sao \\nbiết trước là sẽ hỏng trong 1 khoảng thời gian ngắn nhưng ai ngờ mới bóc hộp cắm sạc thử ngay thì  sạc  được số đen  \\nkhông có ý định đổi hoặc trả đâu chỉ nhắn và gọi thử thôi thì  trả lời .\\ngiờ để giá sách làm cảnh thôi</td>\n",
       "      <td>0</td>\n",
       "      <td>0 sao biết trước là sẽ hỏng trong 1 khoảng thời_gian ngắn nhưng ai_ngờ mới bóc hộp cắm sạc thử ngay thì  sạc  được số đen  không có ý_định đổi hoặc trả đâu chỉ nhắn và gọi thử thôi_thì  trả_lời giờ để giá sách làm cảnh thôi</td>\n",
       "      <td>Tiêu cực</td>\n",
       "    </tr>\n",
       "    <tr>\n",
       "      <th>4</th>\n",
       "      <td>1 bên không nghe được bao nhiêu dù đã chỉnh rồi sạc 5 phút nóng hỏi</td>\n",
       "      <td>0</td>\n",
       "      <td>1 bên không nghe được bao_nhiêu dù đã chỉnh rồi sạc 5 phút nóng hỏi</td>\n",
       "      <td>Tiêu cực</td>\n",
       "    </tr>\n",
       "    <tr>\n",
       "      <th>...</th>\n",
       "      <td>...</td>\n",
       "      <td>...</td>\n",
       "      <td>...</td>\n",
       "      <td>...</td>\n",
       "    </tr>\n",
       "    <tr>\n",
       "      <th>16827</th>\n",
       "      <td>ừ thì tiền nào của nấy, rẻ thì không chất lượng như real rồi dây mỏng so sánh với dây gốc là thấy ngay, dùng cũng tạm được, đeo không thoải mái lắm, đóng gói cẩn thận giao hàng nhanh, tạm cho 4*</td>\n",
       "      <td>2</td>\n",
       "      <td>ừ thì tiền nào của nấy rẻ thì không chất_lượng như real rồi dây mỏng so_sánh với dây gốc là thấy ngay dùng cũng tạm được đeo không thoải_mái lắm đóng_gói cẩn_thận giao hàng nhanh tạm cho 4</td>\n",
       "      <td>Tích cực</td>\n",
       "    </tr>\n",
       "    <tr>\n",
       "      <th>16828</th>\n",
       "      <td>Ừm....nói chung xài tốt, chơi game cũng được, chụp ảnh được, mỗi tội lướt tik tok 1 lúc rồi tự out, còn lại đều được</td>\n",
       "      <td>0</td>\n",
       "      <td>ừm nói_chung xài tốt chơi game cũng được chụp ảnh được mỗi tội lướt tik tok 1 lúc rồi tự out còn lại đều được</td>\n",
       "      <td>Tiêu cực</td>\n",
       "    </tr>\n",
       "    <tr>\n",
       "      <th>16829</th>\n",
       "      <td>ừnggggggggffffffffgbsbsbsnsn nói chung là ưng ahhhhhhhhh</td>\n",
       "      <td>1</td>\n",
       "      <td>ừnggggggggffffffffgbsbsbsnsn nói_chung là ưng ahhhhhhhhh</td>\n",
       "      <td>Tích cực</td>\n",
       "    </tr>\n",
       "    <tr>\n",
       "      <th>16830</th>\n",
       "      <td>✌️ sản phẩm ngon hơn những gì mình tưởng tượng thanks tiki</td>\n",
       "      <td>1</td>\n",
       "      <td>️ sản_phẩm ngon hơn những gì mình tưởng_tượng thanks tiki</td>\n",
       "      <td>Tích cực</td>\n",
       "    </tr>\n",
       "    <tr>\n",
       "      <th>16831</th>\n",
       "      <td>☝️Tạm ổn... Nhưng tg xài lâu dài k biết sao.. 300k xài chắc cũng đc 3 tháng... 👉Pin thì mới xài đã thấy k ổn</td>\n",
       "      <td>0</td>\n",
       "      <td>️ tạm ổn nhưng tg xài lâu_dài k biết sao 300k xài chắc cũng đc 3 tháng pin thì mới xài đã thấy k ổn</td>\n",
       "      <td>Tiêu cực</td>\n",
       "    </tr>\n",
       "  </tbody>\n",
       "</table>\n",
       "<p>16832 rows × 4 columns</p>\n",
       "</div>"
      ],
      "text/plain": [
       "                                                                                                                                                                                                                                                                                                                                            old_data  \\\n",
       "0                                                                                                                                                                                                                                   sài tốt, pin ngon, máy mạnh, màn hình không thời thượng bằng s10, nhưng camera, mọi thứ là ngon quá sức mong đợi   \n",
       "1                                                                                                                                                                                                                                                                        đẹp, nhiều chức năng bảo mật rất hay. mua dùm cho bà thím, bà rất ưng ý. ok   \n",
       "2      0 biết có phải do tương thích, mà máy ASUS X407 nhận nó rất cực, cho mỗi lần setup win mà phải install nó lại vào thiết bị bluetooth phải cả 30min mới nhận trong danh sách bluetooth. Nhận xong thì lúc tắt máy tính, lần sau nó còn đó, mà phải nhấn nút bluetooth vài lần, nó mới chạy lại. Win mình đang dùng bản 1809 bản quyền ASUS....   \n",
       "3                                                                                                            0 sao \\nbiết trước là sẽ hỏng trong 1 khoảng thời gian ngắn nhưng ai ngờ mới bóc hộp cắm sạc thử ngay thì  sạc  được số đen  \\nkhông có ý định đổi hoặc trả đâu chỉ nhắn và gọi thử thôi thì  trả lời .\\ngiờ để giá sách làm cảnh thôi    \n",
       "4                                                                                                                                                                                                                                                                                1 bên không nghe được bao nhiêu dù đã chỉnh rồi sạc 5 phút nóng hỏi   \n",
       "...                                                                                                                                                                                                                                                                                                                                              ...   \n",
       "16827                                                                                                                                             ừ thì tiền nào của nấy, rẻ thì không chất lượng như real rồi dây mỏng so sánh với dây gốc là thấy ngay, dùng cũng tạm được, đeo không thoải mái lắm, đóng gói cẩn thận giao hàng nhanh, tạm cho 4*   \n",
       "16828                                                                                                                                                                                                                           Ừm....nói chung xài tốt, chơi game cũng được, chụp ảnh được, mỗi tội lướt tik tok 1 lúc rồi tự out, còn lại đều được   \n",
       "16829                                                                                                                                                                                                                                                                                       ừnggggggggffffffffgbsbsbsnsn nói chung là ưng ahhhhhhhhh   \n",
       "16830                                                                                                                                                                                                                                                                                     ✌️ sản phẩm ngon hơn những gì mình tưởng tượng thanks tiki   \n",
       "16831                                                                                                                                                                                                                                   ☝️Tạm ổn... Nhưng tg xài lâu dài k biết sao.. 300k xài chắc cũng đc 3 tháng... 👉Pin thì mới xài đã thấy k ổn   \n",
       "\n",
       "       label  \\\n",
       "0          1   \n",
       "1          1   \n",
       "2          2   \n",
       "3          0   \n",
       "4          0   \n",
       "...      ...   \n",
       "16827      2   \n",
       "16828      0   \n",
       "16829      1   \n",
       "16830      1   \n",
       "16831      0   \n",
       "\n",
       "                                                                                                                                                                                                                                                                                                                            tranform_data  \\\n",
       "0                                                                                                                                                                                                                             sài tốt pin ngon máy mạnh màn_hình không thời_thượng bằng s10 nhưng camera mọi thứ là ngon quá_sức mong_đợi   \n",
       "1                                                                                                                                                                                                                                                                 đẹp nhiều chức_năng bảo_mật rất hay mua dùm cho bà thím bà rất ưng_ý ok   \n",
       "2      0 biết có phải do tương_thích mà máy asus x407 nhận nó rất cực cho mỗi lần setup win mà phải install nó lại vào thiết_bị bluetooth phải cả 30min mới nhận trong danh_sách bluetooth nhận xong thì lúc tắt máy_tính lần sau nó còn đó mà phải nhấn nút bluetooth vài lần nó mới chạy lại win mình đang dùng bản 1809 bản_quyền asus   \n",
       "3                                                                                                         0 sao biết trước là sẽ hỏng trong 1 khoảng thời_gian ngắn nhưng ai_ngờ mới bóc hộp cắm sạc thử ngay thì  sạc  được số đen  không có ý_định đổi hoặc trả đâu chỉ nhắn và gọi thử thôi_thì  trả_lời giờ để giá sách làm cảnh thôi   \n",
       "4                                                                                                                                                                                                                                                                     1 bên không nghe được bao_nhiêu dù đã chỉnh rồi sạc 5 phút nóng hỏi   \n",
       "...                                                                                                                                                                                                                                                                                                                                   ...   \n",
       "16827                                                                                                                                        ừ thì tiền nào của nấy rẻ thì không chất_lượng như real rồi dây mỏng so_sánh với dây gốc là thấy ngay dùng cũng tạm được đeo không thoải_mái lắm đóng_gói cẩn_thận giao hàng nhanh tạm cho 4   \n",
       "16828                                                                                                                                                                                                                       ừm nói_chung xài tốt chơi game cũng được chụp ảnh được mỗi tội lướt tik tok 1 lúc rồi tự out còn lại đều được   \n",
       "16829                                                                                                                                                                                                                                                                            ừnggggggggffffffffgbsbsbsnsn nói_chung là ưng ahhhhhhhhh   \n",
       "16830                                                                                                                                                                                                                                                                           ️ sản_phẩm ngon hơn những gì mình tưởng_tượng thanks tiki   \n",
       "16831                                                                                                                                                                                                                                 ️ tạm ổn nhưng tg xài lâu_dài k biết sao 300k xài chắc cũng đc 3 tháng pin thì mới xài đã thấy k ổn   \n",
       "\n",
       "      new_label  \n",
       "0      Tích cực  \n",
       "1      Tích cực  \n",
       "2      Tích cực  \n",
       "3      Tiêu cực  \n",
       "4      Tiêu cực  \n",
       "...         ...  \n",
       "16827  Tích cực  \n",
       "16828  Tiêu cực  \n",
       "16829  Tích cực  \n",
       "16830  Tích cực  \n",
       "16831  Tiêu cực  \n",
       "\n",
       "[16832 rows x 4 columns]"
      ]
     },
     "execution_count": 30,
     "metadata": {},
     "output_type": "execute_result"
    }
   ],
   "source": [
    "def relabel(row):\n",
    "    if row['label'] in [1, 2]:\n",
    "        return 'Tích cực'\n",
    "    elif row['label'] in [3, 4]:\n",
    "        return 'Trung tính'\n",
    "    elif row['label'] in [0, 5]:\n",
    "        return 'Tiêu cực'\n",
    "\n",
    "# Áp dụng hàm gán nhãn mới cho từng dòng\n",
    "df['new_label'] = df.apply(relabel, axis=1)\n",
    "# Drop cột label cũ\n",
    "# df.drop('label', axis=1, inplace=True)\n",
    "# Hiển thị dữ liệu sau khi gán nhãn lại\n",
    "df"
   ]
  },
  {
   "cell_type": "markdown",
   "metadata": {},
   "source": [
    "# SVM & decision tree"
   ]
  },
  {
   "cell_type": "code",
   "execution_count": 31,
   "metadata": {},
   "outputs": [],
   "source": [
    "data = df.copy()"
   ]
  },
  {
   "cell_type": "code",
   "execution_count": 32,
   "metadata": {},
   "outputs": [],
   "source": [
    "from sklearn.preprocessing import LabelEncoder\n",
    "from sklearn.model_selection import train_test_split\n",
    "from sklearn.feature_extraction.text import TfidfVectorizer"
   ]
  },
  {
   "cell_type": "code",
   "execution_count": 33,
   "metadata": {},
   "outputs": [],
   "source": [
    "# Label encoding\n",
    "label_encoder = LabelEncoder()\n",
    "data['new_label'] = label_encoder.fit_transform(data['new_label'])\n",
    "\n",
    "# Tiền xử lý văn bản\n",
    "tfidf_vectorizer = TfidfVectorizer()\n",
    "X = tfidf_vectorizer.fit_transform(data['tranform_data'])\n",
    "y = data['new_label']\n"
   ]
  },
  {
   "cell_type": "code",
   "execution_count": 34,
   "metadata": {},
   "outputs": [
    {
     "name": "stdout",
     "output_type": "stream",
     "text": [
      "\n"
     ]
    }
   ],
   "source": [
    "from sklearn.feature_extraction.text import TfidfTransformer\n",
    "from sklearn.feature_extraction.text import CountVectorizer \n",
    "\n",
    "DICTIONARY = {}\n",
    "\n",
    "import re\n",
    "\n",
    "def get_dictionary(text):\n",
    "    text = re.split(r'[\\s+\\n]', text)\n",
    "    for t in text:\n",
    "        cnt = DICTIONARY.get(t, 0) + 1\n",
    "        DICTIONARY[t] = cnt\n",
    "\n",
    "df['tranform_data'].apply(get_dictionary)\n",
    "print()\n",
    "\n",
    "cv = CountVectorizer(vocabulary=DICTIONARY.keys())\n",
    "word_count_vector = cv.fit_transform(df['tranform_data'])\n",
    "\n",
    "tfidf_transformer = TfidfTransformer(smooth_idf=True, use_idf=True)\n",
    "tfidf_transformer.fit(word_count_vector)\n",
    "\n",
    "X = tfidf_transformer.transform(word_count_vector)\n",
    "y = df['new_label'].values"
   ]
  },
  {
   "cell_type": "code",
   "execution_count": 35,
   "metadata": {},
   "outputs": [],
   "source": [
    "X_train, X_test, y_train, y_test = train_test_split(X, y, test_size=0.3, random_state=44)"
   ]
  },
  {
   "cell_type": "code",
   "execution_count": 36,
   "metadata": {},
   "outputs": [
    {
     "name": "stdout",
     "output_type": "stream",
     "text": [
      "              precision    recall  f1-score   support\n",
      "\n",
      "    Tiêu cực       0.61      0.78      0.69       746\n",
      "  Trung tính       0.19      0.63      0.30       167\n",
      "    Tích cực       0.96      0.82      0.88      4137\n",
      "\n",
      "    accuracy                           0.81      5050\n",
      "   macro avg       0.59      0.74      0.62      5050\n",
      "weighted avg       0.88      0.81      0.83      5050\n",
      "\n"
     ]
    }
   ],
   "source": [
    "from sklearn.svm import SVC\n",
    "from sklearn.metrics import classification_report, accuracy_score\n",
    "\n",
    "svc_model = SVC(random_state=17)\n",
    "svc_model.fit(X_train, y_train)\n",
    "\n",
    "\n",
    "print(classification_report(svc_model.predict(X_test), y_test))"
   ]
  },
  {
   "cell_type": "code",
   "execution_count": 37,
   "metadata": {},
   "outputs": [],
   "source": [
    "X_train, X_test, y_train, y_test = train_test_split(X, y, test_size=0.2, random_state=42)"
   ]
  },
  {
   "cell_type": "code",
   "execution_count": 38,
   "metadata": {},
   "outputs": [
    {
     "name": "stdout",
     "output_type": "stream",
     "text": [
      "              precision    recall  f1-score   support\n",
      "\n",
      "    Tiêu cực       0.49      0.56      0.52       574\n",
      "  Trung tính       0.30      0.36      0.32       316\n",
      "    Tích cực       0.84      0.79      0.82      2477\n",
      "\n",
      "    accuracy                           0.71      3367\n",
      "   macro avg       0.54      0.57      0.55      3367\n",
      "weighted avg       0.73      0.71      0.72      3367\n",
      "\n"
     ]
    }
   ],
   "source": [
    "from sklearn.tree import DecisionTreeClassifier\n",
    "\n",
    "tree_model = DecisionTreeClassifier(random_state=17)\n",
    "tree_model.fit(X_train, y_train)\n",
    "\n",
    "print(classification_report(tree_model.predict(X_test), y_test))"
   ]
  },
  {
   "cell_type": "code",
   "execution_count": 39,
   "metadata": {},
   "outputs": [],
   "source": [
    "y = df['label'].values\n",
    "\n",
    "X_train, X_test, y_train, y_test = train_test_split(X, y, test_size=0.4, random_state=120)"
   ]
  },
  {
   "cell_type": "markdown",
   "metadata": {},
   "source": [
    "# CNN"
   ]
  },
  {
   "cell_type": "code",
   "execution_count": 40,
   "metadata": {},
   "outputs": [],
   "source": [
    "data = df.copy()"
   ]
  },
  {
   "cell_type": "code",
   "execution_count": 41,
   "metadata": {},
   "outputs": [],
   "source": [
    "import pandas as pd\n",
    "import numpy as np\n",
    "from sklearn.model_selection import train_test_split\n",
    "from tensorflow.keras.preprocessing.text import Tokenizer\n",
    "from tensorflow.keras.preprocessing.sequence import pad_sequences\n",
    "from tensorflow.keras.utils import to_categorical\n"
   ]
  },
  {
   "cell_type": "code",
   "execution_count": 42,
   "metadata": {},
   "outputs": [],
   "source": [
    "# Chuẩn bị đầu vào và nhãn\n",
    "X = data['tranform_data']\n",
    "y = data['new_label']\n",
    "\n",
    "# Tokenization và padding\n",
    "max_words = 10000  # Số lượng từ tối đa\n",
    "max_len = 200  # Chiều dài tối đa của chuỗi\n",
    "tokenizer = Tokenizer(num_words=max_words)\n",
    "tokenizer.fit_on_texts(X)\n",
    "X_tokenized = tokenizer.texts_to_sequences(X)\n",
    "X_padded = pad_sequences(X_tokenized, maxlen=max_len)\n",
    "\n",
    "# Label encoding\n",
    "label_dict = {'Tích cực': 2, 'Trung tính': 1, 'Tiêu cực': 0}\n",
    "y_encoded = y.map(label_dict)\n",
    "y_categorical = to_categorical(y_encoded, num_classes=3)\n",
    "\n",
    "# Chia dữ liệu thành tập train và test\n",
    "X_train, X_test, y_train, y_test = train_test_split(X_padded, y_categorical, test_size=0.2, random_state=42)\n"
   ]
  },
  {
   "cell_type": "code",
   "execution_count": 43,
   "metadata": {},
   "outputs": [
    {
     "name": "stderr",
     "output_type": "stream",
     "text": [
      "C:\\Users\\trant\\AppData\\Local\\Packages\\PythonSoftwareFoundation.Python.3.11_qbz5n2kfra8p0\\LocalCache\\local-packages\\Python311\\site-packages\\keras\\src\\layers\\core\\embedding.py:90: UserWarning: Argument `input_length` is deprecated. Just remove it.\n",
      "  warnings.warn(\n"
     ]
    },
    {
     "data": {
      "text/html": [
       "<pre style=\"white-space:pre;overflow-x:auto;line-height:normal;font-family:Menlo,'DejaVu Sans Mono',consolas,'Courier New',monospace\"><span style=\"font-weight: bold\">Model: \"sequential_2\"</span>\n",
       "</pre>\n"
      ],
      "text/plain": [
       "\u001b[1mModel: \"sequential_2\"\u001b[0m\n"
      ]
     },
     "metadata": {},
     "output_type": "display_data"
    },
    {
     "data": {
      "text/html": [
       "<pre style=\"white-space:pre;overflow-x:auto;line-height:normal;font-family:Menlo,'DejaVu Sans Mono',consolas,'Courier New',monospace\">┏━━━━━━━━━━━━━━━━━━━━━━━━━━━━━━━━━┳━━━━━━━━━━━━━━━━━━━━━━━━┳━━━━━━━━━━━━━━━┓\n",
       "┃<span style=\"font-weight: bold\"> Layer (type)                    </span>┃<span style=\"font-weight: bold\"> Output Shape           </span>┃<span style=\"font-weight: bold\">       Param # </span>┃\n",
       "┡━━━━━━━━━━━━━━━━━━━━━━━━━━━━━━━━━╇━━━━━━━━━━━━━━━━━━━━━━━━╇━━━━━━━━━━━━━━━┩\n",
       "│ embedding_2 (<span style=\"color: #0087ff; text-decoration-color: #0087ff\">Embedding</span>)         │ ?                      │   <span style=\"color: #00af00; text-decoration-color: #00af00\">0</span> (unbuilt) │\n",
       "├─────────────────────────────────┼────────────────────────┼───────────────┤\n",
       "│ conv1d_1 (<span style=\"color: #0087ff; text-decoration-color: #0087ff\">Conv1D</span>)               │ ?                      │   <span style=\"color: #00af00; text-decoration-color: #00af00\">0</span> (unbuilt) │\n",
       "├─────────────────────────────────┼────────────────────────┼───────────────┤\n",
       "│ max_pooling1d_1 (<span style=\"color: #0087ff; text-decoration-color: #0087ff\">MaxPooling1D</span>)  │ ?                      │             <span style=\"color: #00af00; text-decoration-color: #00af00\">0</span> │\n",
       "├─────────────────────────────────┼────────────────────────┼───────────────┤\n",
       "│ flatten_1 (<span style=\"color: #0087ff; text-decoration-color: #0087ff\">Flatten</span>)             │ ?                      │   <span style=\"color: #00af00; text-decoration-color: #00af00\">0</span> (unbuilt) │\n",
       "├─────────────────────────────────┼────────────────────────┼───────────────┤\n",
       "│ dense_4 (<span style=\"color: #0087ff; text-decoration-color: #0087ff\">Dense</span>)                 │ ?                      │   <span style=\"color: #00af00; text-decoration-color: #00af00\">0</span> (unbuilt) │\n",
       "├─────────────────────────────────┼────────────────────────┼───────────────┤\n",
       "│ dropout_2 (<span style=\"color: #0087ff; text-decoration-color: #0087ff\">Dropout</span>)             │ ?                      │             <span style=\"color: #00af00; text-decoration-color: #00af00\">0</span> │\n",
       "├─────────────────────────────────┼────────────────────────┼───────────────┤\n",
       "│ dense_5 (<span style=\"color: #0087ff; text-decoration-color: #0087ff\">Dense</span>)                 │ ?                      │   <span style=\"color: #00af00; text-decoration-color: #00af00\">0</span> (unbuilt) │\n",
       "└─────────────────────────────────┴────────────────────────┴───────────────┘\n",
       "</pre>\n"
      ],
      "text/plain": [
       "┏━━━━━━━━━━━━━━━━━━━━━━━━━━━━━━━━━┳━━━━━━━━━━━━━━━━━━━━━━━━┳━━━━━━━━━━━━━━━┓\n",
       "┃\u001b[1m \u001b[0m\u001b[1mLayer (type)                   \u001b[0m\u001b[1m \u001b[0m┃\u001b[1m \u001b[0m\u001b[1mOutput Shape          \u001b[0m\u001b[1m \u001b[0m┃\u001b[1m \u001b[0m\u001b[1m      Param #\u001b[0m\u001b[1m \u001b[0m┃\n",
       "┡━━━━━━━━━━━━━━━━━━━━━━━━━━━━━━━━━╇━━━━━━━━━━━━━━━━━━━━━━━━╇━━━━━━━━━━━━━━━┩\n",
       "│ embedding_2 (\u001b[38;5;33mEmbedding\u001b[0m)         │ ?                      │   \u001b[38;5;34m0\u001b[0m (unbuilt) │\n",
       "├─────────────────────────────────┼────────────────────────┼───────────────┤\n",
       "│ conv1d_1 (\u001b[38;5;33mConv1D\u001b[0m)               │ ?                      │   \u001b[38;5;34m0\u001b[0m (unbuilt) │\n",
       "├─────────────────────────────────┼────────────────────────┼───────────────┤\n",
       "│ max_pooling1d_1 (\u001b[38;5;33mMaxPooling1D\u001b[0m)  │ ?                      │             \u001b[38;5;34m0\u001b[0m │\n",
       "├─────────────────────────────────┼────────────────────────┼───────────────┤\n",
       "│ flatten_1 (\u001b[38;5;33mFlatten\u001b[0m)             │ ?                      │   \u001b[38;5;34m0\u001b[0m (unbuilt) │\n",
       "├─────────────────────────────────┼────────────────────────┼───────────────┤\n",
       "│ dense_4 (\u001b[38;5;33mDense\u001b[0m)                 │ ?                      │   \u001b[38;5;34m0\u001b[0m (unbuilt) │\n",
       "├─────────────────────────────────┼────────────────────────┼───────────────┤\n",
       "│ dropout_2 (\u001b[38;5;33mDropout\u001b[0m)             │ ?                      │             \u001b[38;5;34m0\u001b[0m │\n",
       "├─────────────────────────────────┼────────────────────────┼───────────────┤\n",
       "│ dense_5 (\u001b[38;5;33mDense\u001b[0m)                 │ ?                      │   \u001b[38;5;34m0\u001b[0m (unbuilt) │\n",
       "└─────────────────────────────────┴────────────────────────┴───────────────┘\n"
      ]
     },
     "metadata": {},
     "output_type": "display_data"
    },
    {
     "data": {
      "text/html": [
       "<pre style=\"white-space:pre;overflow-x:auto;line-height:normal;font-family:Menlo,'DejaVu Sans Mono',consolas,'Courier New',monospace\"><span style=\"font-weight: bold\"> Total params: </span><span style=\"color: #00af00; text-decoration-color: #00af00\">0</span> (0.00 B)\n",
       "</pre>\n"
      ],
      "text/plain": [
       "\u001b[1m Total params: \u001b[0m\u001b[38;5;34m0\u001b[0m (0.00 B)\n"
      ]
     },
     "metadata": {},
     "output_type": "display_data"
    },
    {
     "data": {
      "text/html": [
       "<pre style=\"white-space:pre;overflow-x:auto;line-height:normal;font-family:Menlo,'DejaVu Sans Mono',consolas,'Courier New',monospace\"><span style=\"font-weight: bold\"> Trainable params: </span><span style=\"color: #00af00; text-decoration-color: #00af00\">0</span> (0.00 B)\n",
       "</pre>\n"
      ],
      "text/plain": [
       "\u001b[1m Trainable params: \u001b[0m\u001b[38;5;34m0\u001b[0m (0.00 B)\n"
      ]
     },
     "metadata": {},
     "output_type": "display_data"
    },
    {
     "data": {
      "text/html": [
       "<pre style=\"white-space:pre;overflow-x:auto;line-height:normal;font-family:Menlo,'DejaVu Sans Mono',consolas,'Courier New',monospace\"><span style=\"font-weight: bold\"> Non-trainable params: </span><span style=\"color: #00af00; text-decoration-color: #00af00\">0</span> (0.00 B)\n",
       "</pre>\n"
      ],
      "text/plain": [
       "\u001b[1m Non-trainable params: \u001b[0m\u001b[38;5;34m0\u001b[0m (0.00 B)\n"
      ]
     },
     "metadata": {},
     "output_type": "display_data"
    }
   ],
   "source": [
    "from tensorflow.keras.models import Sequential\n",
    "from tensorflow.keras.layers import Embedding, Conv1D, MaxPooling1D, Flatten, Dense, Dropout\n",
    "\n",
    "# Xây dựng mô hình CNN\n",
    "model = Sequential()\n",
    "model.add(Embedding(input_dim=max_words, output_dim=128, input_length=max_len))\n",
    "model.add(Conv1D(filters=128, kernel_size=5, activation='relu'))\n",
    "model.add(MaxPooling1D(pool_size=2))\n",
    "model.add(Flatten())\n",
    "model.add(Dense(128, activation='relu'))\n",
    "model.add(Dropout(0.5))\n",
    "model.add(Dense(3, activation='softmax'))  # Phân loại 3 lớp: Tiêu cực, Trung tính, Tích cực\n",
    "\n",
    "# Compile mô hình\n",
    "model.compile(optimizer='adam', loss='categorical_crossentropy', metrics=['accuracy'])\n",
    "\n",
    "# Hiển thị mô hình\n",
    "model.summary()"
   ]
  },
  {
   "cell_type": "code",
   "execution_count": 44,
   "metadata": {},
   "outputs": [
    {
     "name": "stdout",
     "output_type": "stream",
     "text": [
      "Epoch 1/10\n",
      "\u001b[1m211/211\u001b[0m \u001b[32m━━━━━━━━━━━━━━━━━━━━\u001b[0m\u001b[37m\u001b[0m \u001b[1m9s\u001b[0m 38ms/step - accuracy: 0.7309 - loss: 0.7380 - val_accuracy: 0.7778 - val_loss: 0.5639\n",
      "Epoch 2/10\n",
      "\u001b[1m211/211\u001b[0m \u001b[32m━━━━━━━━━━━━━━━━━━━━\u001b[0m\u001b[37m\u001b[0m \u001b[1m8s\u001b[0m 38ms/step - accuracy: 0.8225 - loss: 0.4732 - val_accuracy: 0.7924 - val_loss: 0.5310\n",
      "Epoch 3/10\n",
      "\u001b[1m211/211\u001b[0m \u001b[32m━━━━━━━━━━━━━━━━━━━━\u001b[0m\u001b[37m\u001b[0m \u001b[1m8s\u001b[0m 36ms/step - accuracy: 0.8667 - loss: 0.3545 - val_accuracy: 0.7787 - val_loss: 0.5560\n",
      "Epoch 4/10\n",
      "\u001b[1m211/211\u001b[0m \u001b[32m━━━━━━━━━━━━━━━━━━━━\u001b[0m\u001b[37m\u001b[0m \u001b[1m8s\u001b[0m 39ms/step - accuracy: 0.9011 - loss: 0.2662 - val_accuracy: 0.7746 - val_loss: 0.6534\n",
      "Epoch 5/10\n",
      "\u001b[1m211/211\u001b[0m \u001b[32m━━━━━━━━━━━━━━━━━━━━\u001b[0m\u001b[37m\u001b[0m \u001b[1m8s\u001b[0m 38ms/step - accuracy: 0.9404 - loss: 0.1731 - val_accuracy: 0.7672 - val_loss: 0.8614\n",
      "Epoch 6/10\n",
      "\u001b[1m211/211\u001b[0m \u001b[32m━━━━━━━━━━━━━━━━━━━━\u001b[0m\u001b[37m\u001b[0m \u001b[1m8s\u001b[0m 36ms/step - accuracy: 0.9626 - loss: 0.1135 - val_accuracy: 0.7648 - val_loss: 1.0788\n",
      "Epoch 7/10\n",
      "\u001b[1m211/211\u001b[0m \u001b[32m━━━━━━━━━━━━━━━━━━━━\u001b[0m\u001b[37m\u001b[0m \u001b[1m8s\u001b[0m 38ms/step - accuracy: 0.9790 - loss: 0.0681 - val_accuracy: 0.7648 - val_loss: 1.1970\n",
      "Epoch 8/10\n",
      "\u001b[1m211/211\u001b[0m \u001b[32m━━━━━━━━━━━━━━━━━━━━\u001b[0m\u001b[37m\u001b[0m \u001b[1m8s\u001b[0m 39ms/step - accuracy: 0.9874 - loss: 0.0445 - val_accuracy: 0.7556 - val_loss: 1.3067\n",
      "Epoch 9/10\n",
      "\u001b[1m211/211\u001b[0m \u001b[32m━━━━━━━━━━━━━━━━━━━━\u001b[0m\u001b[37m\u001b[0m \u001b[1m8s\u001b[0m 37ms/step - accuracy: 0.9929 - loss: 0.0296 - val_accuracy: 0.7609 - val_loss: 1.5736\n",
      "Epoch 10/10\n",
      "\u001b[1m211/211\u001b[0m \u001b[32m━━━━━━━━━━━━━━━━━━━━\u001b[0m\u001b[37m\u001b[0m \u001b[1m8s\u001b[0m 36ms/step - accuracy: 0.9928 - loss: 0.0299 - val_accuracy: 0.7571 - val_loss: 1.5625\n"
     ]
    }
   ],
   "source": [
    "# Huấn luyện mô hình\n",
    "history = model.fit(X_train, y_train, epochs=10, batch_size=64, validation_data=(X_test, y_test))\n"
   ]
  },
  {
   "cell_type": "code",
   "execution_count": 45,
   "metadata": {},
   "outputs": [
    {
     "name": "stdout",
     "output_type": "stream",
     "text": [
      "\u001b[1m106/106\u001b[0m \u001b[32m━━━━━━━━━━━━━━━━━━━━\u001b[0m\u001b[37m\u001b[0m \u001b[1m1s\u001b[0m 6ms/step - accuracy: 0.7685 - loss: 1.4133\n",
      "Test Accuracy: 75.71%\n"
     ]
    },
    {
     "data": {
      "image/png": "[encoded data removed]",
      "text/plain": [
       "<Figure size 640x480 with 1 Axes>"
      ]
     },
     "metadata": {},
     "output_type": "display_data"
    },
    {
     "data": {
      "image/png": "[encoded data removed]",
      "text/plain": [
       "<Figure size 640x480 with 1 Axes>"
      ]
     },
     "metadata": {},
     "output_type": "display_data"
    }
   ],
   "source": [
    "# Đánh giá mô hình trên tập test\n",
    "loss, accuracy = model.evaluate(X_test, y_test)\n",
    "print(f'Test Accuracy: {accuracy * 100:.2f}%')\n",
    "\n",
    "# Vẽ biểu đồ accuracy và loss\n",
    "import matplotlib.pyplot as plt\n",
    "\n",
    "# Biểu đồ Accuracy\n",
    "plt.plot(history.history['accuracy'], label='Train Accuracy')\n",
    "plt.plot(history.history['val_accuracy'], label='Validation Accuracy')\n",
    "plt.title('Model Accuracy')\n",
    "plt.xlabel('Epochs')\n",
    "plt.ylabel('Accuracy')\n",
    "plt.legend()\n",
    "plt.show()\n",
    "\n",
    "# Biểu đồ Loss\n",
    "plt.plot(history.history['loss'], label='Train Loss')\n",
    "plt.plot(history.history['val_loss'], label='Validation Loss')\n",
    "plt.title('Model Loss')\n",
    "plt.xlabel('Epochs')\n",
    "plt.ylabel('Loss')\n",
    "plt.legend()\n",
    "plt.show()"
   ]
  },
  {
   "cell_type": "code",
   "execution_count": 46,
   "metadata": {},
   "outputs": [
    {
     "name": "stdout",
     "output_type": "stream",
     "text": [
      "\u001b[1m1/1\u001b[0m \u001b[32m━━━━━━━━━━━━━━━━━━━━\u001b[0m\u001b[37m\u001b[0m \u001b[1m0s\u001b[0m 101ms/step\n",
      "Review: hàng tốt , giao đúng màu , viền đổi màu siêu đẹp , mic cầm vừa tay nhg phải để gần mồm ms nói đc , mic đổi dc giọng , nhiều tính năng , nhỏ nhắn xinh xắn , màu hồng đẹp xinh dã man , shop hỗ trợ nhiệt tình , okk lắmm\n",
      "Sentiment: Tích cực\n",
      "\n",
      "Review: Tiền nào của đấy thôi ạ có hơn 100 nên sp phù hợp vs giá tiền nhé , mic để gần mồm mới thu đc\n",
      "Sentiment: Tích cực\n",
      "\n",
      "Review: Nghe nhạc thì lớn mà karaoke không ok cho lắm nhỏ xíu hát không hay\n",
      "Sentiment: Tích cực\n",
      "\n",
      "Review: Ko có âm thanh nt shop ko tl thỏa đáng, gọi điện chố gửi hàng ko bắt máy, TV ko nhiệt tình\n",
      "Sentiment: Tiêu cực\n",
      "\n",
      "Review: Mic cả 2 đều hát không được\n",
      "Sentiment: Tích cực\n",
      "\n"
     ]
    }
   ],
   "source": [
    "def predict_sentiments(reviews):\n",
    "    # Tiền xử lý danh sách các đánh giá\n",
    "    tokenized_texts = tokenizer.texts_to_sequences(reviews)\n",
    "    padded_texts = pad_sequences(tokenized_texts, maxlen=max_len)\n",
    "    \n",
    "    # Dự đoán cảm xúc\n",
    "    predictions = model.predict(padded_texts)\n",
    "    \n",
    "    label_map = {0: 'Tiêu cực', 1: 'Trung tính', 2: 'Tích cực'}\n",
    "    predicted_labels = [label_map[np.argmax(pred)] for pred in predictions]\n",
    "    \n",
    "    return predicted_labels\n",
    "\n",
    "new_reviews = [\n",
    "    \"hàng tốt , giao đúng màu , viền đổi màu siêu đẹp , mic cầm vừa tay nhg phải để gần mồm ms nói đc , mic đổi dc giọng , nhiều tính năng , nhỏ nhắn xinh xắn , màu hồng đẹp xinh dã man , shop hỗ trợ nhiệt tình , okk lắmm\", #5sao\n",
    "    \"Tiền nào của đấy thôi ạ có hơn 100 nên sp phù hợp vs giá tiền nhé , mic để gần mồm mới thu đc\", #4sao\n",
    "    \"Nghe nhạc thì lớn mà karaoke không ok cho lắm nhỏ xíu hát không hay\", #3sao\n",
    "    \"Ko có âm thanh nt shop ko tl thỏa đáng, gọi điện chố gửi hàng ko bắt máy, TV ko nhiệt tình\",#2sao\n",
    "    \"Mic cả 2 đều hát không được\" #1sao\n",
    "]\n",
    "\n",
    "# Dự đoán cảm xúc cho danh sách các đánh giá\n",
    "predicted_sentiments = predict_sentiments(new_reviews)\n",
    "\n",
    "# Hiển thị kết quả\n",
    "for review, sentiment in zip(new_reviews, predicted_sentiments):\n",
    "    print(f\"Review: {review}\\nSentiment: {sentiment}\\n\")\n"
   ]
  },
  {
   "cell_type": "markdown",
   "metadata": {},
   "source": [
    "# LSTM"
   ]
  },
  {
   "cell_type": "code",
   "execution_count": 47,
   "metadata": {},
   "outputs": [],
   "source": [
    "import pandas as pd\n",
    "import numpy as np\n",
    "from sklearn.model_selection import train_test_split\n",
    "from tensorflow.keras.preprocessing.text import Tokenizer\n",
    "from tensorflow.keras.preprocessing.sequence import pad_sequences\n",
    "from tensorflow.keras.utils import to_categorical\n",
    "\n",
    "# Chuẩn bị đầu vào và nhãn\n",
    "X = data['tranform_data']\n",
    "y = data['new_label']\n",
    "\n",
    "# Tokenization và padding\n",
    "max_words = 10000  # Số lượng từ tối đa\n",
    "max_len = 200  # Chiều dài tối đa của chuỗi\n",
    "tokenizer = Tokenizer(num_words=max_words)\n",
    "tokenizer.fit_on_texts(X)\n",
    "X_tokenized = tokenizer.texts_to_sequences(X)\n",
    "X_padded = pad_sequences(X_tokenized, maxlen=max_len)\n",
    "\n",
    "# Mã hóa nhãn (Label encoding)\n",
    "label_dict = {'Tích cực': 2, 'Trung tính': 1, 'Tiêu cực': 0}\n",
    "y_encoded = y.map(label_dict)\n",
    "y_categorical = to_categorical(y_encoded, num_classes=3)\n",
    "\n",
    "# Chia dữ liệu thành tập train và test\n",
    "X_train, X_test, y_train, y_test = train_test_split(X_padded, y_categorical, test_size=0.2, random_state=42)\n"
   ]
  },
  {
   "cell_type": "code",
   "execution_count": 48,
   "metadata": {},
   "outputs": [
    {
     "name": "stderr",
     "output_type": "stream",
     "text": [
      "C:\\Users\\trant\\AppData\\Local\\Packages\\PythonSoftwareFoundation.Python.3.11_qbz5n2kfra8p0\\LocalCache\\local-packages\\Python311\\site-packages\\keras\\src\\layers\\core\\embedding.py:90: UserWarning: Argument `input_length` is deprecated. Just remove it.\n",
      "  warnings.warn(\n"
     ]
    },
    {
     "data": {
      "text/html": [
       "<pre style=\"white-space:pre;overflow-x:auto;line-height:normal;font-family:Menlo,'DejaVu Sans Mono',consolas,'Courier New',monospace\"><span style=\"font-weight: bold\">Model: \"sequential_3\"</span>\n",
       "</pre>\n"
      ],
      "text/plain": [
       "\u001b[1mModel: \"sequential_3\"\u001b[0m\n"
      ]
     },
     "metadata": {},
     "output_type": "display_data"
    },
    {
     "data": {
      "text/html": [
       "<pre style=\"white-space:pre;overflow-x:auto;line-height:normal;font-family:Menlo,'DejaVu Sans Mono',consolas,'Courier New',monospace\">┏━━━━━━━━━━━━━━━━━━━━━━━━━━━━━━━━━┳━━━━━━━━━━━━━━━━━━━━━━━━┳━━━━━━━━━━━━━━━┓\n",
       "┃<span style=\"font-weight: bold\"> Layer (type)                    </span>┃<span style=\"font-weight: bold\"> Output Shape           </span>┃<span style=\"font-weight: bold\">       Param # </span>┃\n",
       "┡━━━━━━━━━━━━━━━━━━━━━━━━━━━━━━━━━╇━━━━━━━━━━━━━━━━━━━━━━━━╇━━━━━━━━━━━━━━━┩\n",
       "│ embedding_3 (<span style=\"color: #0087ff; text-decoration-color: #0087ff\">Embedding</span>)         │ ?                      │   <span style=\"color: #00af00; text-decoration-color: #00af00\">0</span> (unbuilt) │\n",
       "├─────────────────────────────────┼────────────────────────┼───────────────┤\n",
       "│ lstm_1 (<span style=\"color: #0087ff; text-decoration-color: #0087ff\">LSTM</span>)                   │ ?                      │   <span style=\"color: #00af00; text-decoration-color: #00af00\">0</span> (unbuilt) │\n",
       "├─────────────────────────────────┼────────────────────────┼───────────────┤\n",
       "│ dropout_3 (<span style=\"color: #0087ff; text-decoration-color: #0087ff\">Dropout</span>)             │ ?                      │             <span style=\"color: #00af00; text-decoration-color: #00af00\">0</span> │\n",
       "├─────────────────────────────────┼────────────────────────┼───────────────┤\n",
       "│ dense_6 (<span style=\"color: #0087ff; text-decoration-color: #0087ff\">Dense</span>)                 │ ?                      │   <span style=\"color: #00af00; text-decoration-color: #00af00\">0</span> (unbuilt) │\n",
       "├─────────────────────────────────┼────────────────────────┼───────────────┤\n",
       "│ dense_7 (<span style=\"color: #0087ff; text-decoration-color: #0087ff\">Dense</span>)                 │ ?                      │   <span style=\"color: #00af00; text-decoration-color: #00af00\">0</span> (unbuilt) │\n",
       "└─────────────────────────────────┴────────────────────────┴───────────────┘\n",
       "</pre>\n"
      ],
      "text/plain": [
       "┏━━━━━━━━━━━━━━━━━━━━━━━━━━━━━━━━━┳━━━━━━━━━━━━━━━━━━━━━━━━┳━━━━━━━━━━━━━━━┓\n",
       "┃\u001b[1m \u001b[0m\u001b[1mLayer (type)                   \u001b[0m\u001b[1m \u001b[0m┃\u001b[1m \u001b[0m\u001b[1mOutput Shape          \u001b[0m\u001b[1m \u001b[0m┃\u001b[1m \u001b[0m\u001b[1m      Param #\u001b[0m\u001b[1m \u001b[0m┃\n",
       "┡━━━━━━━━━━━━━━━━━━━━━━━━━━━━━━━━━╇━━━━━━━━━━━━━━━━━━━━━━━━╇━━━━━━━━━━━━━━━┩\n",
       "│ embedding_3 (\u001b[38;5;33mEmbedding\u001b[0m)         │ ?                      │   \u001b[38;5;34m0\u001b[0m (unbuilt) │\n",
       "├─────────────────────────────────┼────────────────────────┼───────────────┤\n",
       "│ lstm_1 (\u001b[38;5;33mLSTM\u001b[0m)                   │ ?                      │   \u001b[38;5;34m0\u001b[0m (unbuilt) │\n",
       "├─────────────────────────────────┼────────────────────────┼───────────────┤\n",
       "│ dropout_3 (\u001b[38;5;33mDropout\u001b[0m)             │ ?                      │             \u001b[38;5;34m0\u001b[0m │\n",
       "├─────────────────────────────────┼────────────────────────┼───────────────┤\n",
       "│ dense_6 (\u001b[38;5;33mDense\u001b[0m)                 │ ?                      │   \u001b[38;5;34m0\u001b[0m (unbuilt) │\n",
       "├─────────────────────────────────┼────────────────────────┼───────────────┤\n",
       "│ dense_7 (\u001b[38;5;33mDense\u001b[0m)                 │ ?                      │   \u001b[38;5;34m0\u001b[0m (unbuilt) │\n",
       "└─────────────────────────────────┴────────────────────────┴───────────────┘\n"
      ]
     },
     "metadata": {},
     "output_type": "display_data"
    },
    {
     "data": {
      "text/html": [
       "<pre style=\"white-space:pre;overflow-x:auto;line-height:normal;font-family:Menlo,'DejaVu Sans Mono',consolas,'Courier New',monospace\"><span style=\"font-weight: bold\"> Total params: </span><span style=\"color: #00af00; text-decoration-color: #00af00\">0</span> (0.00 B)\n",
       "</pre>\n"
      ],
      "text/plain": [
       "\u001b[1m Total params: \u001b[0m\u001b[38;5;34m0\u001b[0m (0.00 B)\n"
      ]
     },
     "metadata": {},
     "output_type": "display_data"
    },
    {
     "data": {
      "text/html": [
       "<pre style=\"white-space:pre;overflow-x:auto;line-height:normal;font-family:Menlo,'DejaVu Sans Mono',consolas,'Courier New',monospace\"><span style=\"font-weight: bold\"> Trainable params: </span><span style=\"color: #00af00; text-decoration-color: #00af00\">0</span> (0.00 B)\n",
       "</pre>\n"
      ],
      "text/plain": [
       "\u001b[1m Trainable params: \u001b[0m\u001b[38;5;34m0\u001b[0m (0.00 B)\n"
      ]
     },
     "metadata": {},
     "output_type": "display_data"
    },
    {
     "data": {
      "text/html": [
       "<pre style=\"white-space:pre;overflow-x:auto;line-height:normal;font-family:Menlo,'DejaVu Sans Mono',consolas,'Courier New',monospace\"><span style=\"font-weight: bold\"> Non-trainable params: </span><span style=\"color: #00af00; text-decoration-color: #00af00\">0</span> (0.00 B)\n",
       "</pre>\n"
      ],
      "text/plain": [
       "\u001b[1m Non-trainable params: \u001b[0m\u001b[38;5;34m0\u001b[0m (0.00 B)\n"
      ]
     },
     "metadata": {},
     "output_type": "display_data"
    }
   ],
   "source": [
    "from tensorflow.keras.models import Sequential\n",
    "from tensorflow.keras.layers import Embedding, LSTM, Dense, Dropout\n",
    "\n",
    "# Xây dựng mô hình LSTM\n",
    "model = Sequential()\n",
    "model.add(Embedding(input_dim=max_words, output_dim=128, input_length=max_len))\n",
    "model.add(LSTM(128, return_sequences=False))  # Dùng LSTM để xử lý chuỗi\n",
    "model.add(Dropout(0.5))\n",
    "model.add(Dense(128, activation='relu'))\n",
    "model.add(Dense(3, activation='softmax'))  # Phân loại 3 lớp: Tiêu cực, Trung tính, Tích cực\n",
    "\n",
    "# Compile mô hình\n",
    "model.compile(optimizer='adam', loss='categorical_crossentropy', metrics=['accuracy'])\n",
    "\n",
    "# Hiển thị mô hình\n",
    "model.summary()"
   ]
  },
  {
   "cell_type": "code",
   "execution_count": 49,
   "metadata": {},
   "outputs": [
    {
     "name": "stdout",
     "output_type": "stream",
     "text": [
      "Epoch 1/10\n",
      "\u001b[1m211/211\u001b[0m \u001b[32m━━━━━━━━━━━━━━━━━━━━\u001b[0m\u001b[37m\u001b[0m \u001b[1m29s\u001b[0m 129ms/step - accuracy: 0.7082 - loss: 0.7732 - val_accuracy: 0.7761 - val_loss: 0.5873\n",
      "Epoch 2/10\n",
      "\u001b[1m211/211\u001b[0m \u001b[32m━━━━━━━━━━━━━━━━━━━━\u001b[0m\u001b[37m\u001b[0m \u001b[1m40s\u001b[0m 123ms/step - accuracy: 0.8153 - loss: 0.5004 - val_accuracy: 0.7862 - val_loss: 0.5371\n",
      "Epoch 3/10\n",
      "\u001b[1m211/211\u001b[0m \u001b[32m━━━━━━━━━━━━━━━━━━━━\u001b[0m\u001b[37m\u001b[0m \u001b[1m26s\u001b[0m 125ms/step - accuracy: 0.8428 - loss: 0.4211 - val_accuracy: 0.7882 - val_loss: 0.5419\n",
      "Epoch 4/10\n",
      "\u001b[1m211/211\u001b[0m \u001b[32m━━━━━━━━━━━━━━━━━━━━\u001b[0m\u001b[37m\u001b[0m \u001b[1m26s\u001b[0m 124ms/step - accuracy: 0.8706 - loss: 0.3603 - val_accuracy: 0.7841 - val_loss: 0.6263\n",
      "Epoch 5/10\n",
      "\u001b[1m211/211\u001b[0m \u001b[32m━━━━━━━━━━━━━━━━━━━━\u001b[0m\u001b[37m\u001b[0m \u001b[1m26s\u001b[0m 122ms/step - accuracy: 0.8864 - loss: 0.3115 - val_accuracy: 0.7755 - val_loss: 0.5739\n",
      "Epoch 6/10\n",
      "\u001b[1m211/211\u001b[0m \u001b[32m━━━━━━━━━━━━━━━━━━━━\u001b[0m\u001b[37m\u001b[0m \u001b[1m29s\u001b[0m 138ms/step - accuracy: 0.8954 - loss: 0.2844 - val_accuracy: 0.7761 - val_loss: 0.6268\n",
      "Epoch 7/10\n",
      "\u001b[1m211/211\u001b[0m \u001b[32m━━━━━━━━━━━━━━━━━━━━\u001b[0m\u001b[37m\u001b[0m \u001b[1m26s\u001b[0m 124ms/step - accuracy: 0.9037 - loss: 0.2676 - val_accuracy: 0.7743 - val_loss: 0.6964\n",
      "Epoch 8/10\n",
      "\u001b[1m211/211\u001b[0m \u001b[32m━━━━━━━━━━━━━━━━━━━━\u001b[0m\u001b[37m\u001b[0m \u001b[1m26s\u001b[0m 124ms/step - accuracy: 0.9125 - loss: 0.2446 - val_accuracy: 0.7651 - val_loss: 0.7409\n",
      "Epoch 9/10\n",
      "\u001b[1m211/211\u001b[0m \u001b[32m━━━━━━━━━━━━━━━━━━━━\u001b[0m\u001b[37m\u001b[0m \u001b[1m26s\u001b[0m 125ms/step - accuracy: 0.9119 - loss: 0.2429 - val_accuracy: 0.7669 - val_loss: 0.7496\n",
      "Epoch 10/10\n",
      "\u001b[1m211/211\u001b[0m \u001b[32m━━━━━━━━━━━━━━━━━━━━\u001b[0m\u001b[37m\u001b[0m \u001b[1m27s\u001b[0m 126ms/step - accuracy: 0.9250 - loss: 0.2030 - val_accuracy: 0.7615 - val_loss: 0.8516\n"
     ]
    }
   ],
   "source": [
    "# Huấn luyện mô hình\n",
    "history = model.fit(X_train, y_train, epochs=10, batch_size=64, validation_data=(X_test, y_test))\n"
   ]
  },
  {
   "cell_type": "code",
   "execution_count": 50,
   "metadata": {},
   "outputs": [
    {
     "name": "stdout",
     "output_type": "stream",
     "text": [
      "\u001b[1m106/106\u001b[0m \u001b[32m━━━━━━━━━━━━━━━━━━━━\u001b[0m\u001b[37m\u001b[0m \u001b[1m2s\u001b[0m 23ms/step - accuracy: 0.7672 - loss: 0.7979\n",
      "Test Accuracy: 76.15%\n"
     ]
    },
    {
     "data": {
      "image/png": "[encoded data removed]",
      "text/plain": [
       "<Figure size 640x480 with 1 Axes>"
      ]
     },
     "metadata": {},
     "output_type": "display_data"
    },
    {
     "data": {
      "image/png": "[encoded data removed]",
      "text/plain": [
       "<Figure size 640x480 with 1 Axes>"
      ]
     },
     "metadata": {},
     "output_type": "display_data"
    }
   ],
   "source": [
    "# Đánh giá mô hình trên tập test\n",
    "loss, accuracy = model.evaluate(X_test, y_test)\n",
    "print(f'Test Accuracy: {accuracy * 100:.2f}%')\n",
    "\n",
    "# Vẽ biểu đồ accuracy và loss\n",
    "import matplotlib.pyplot as plt\n",
    "\n",
    "# Biểu đồ Accuracy\n",
    "plt.plot(history.history['accuracy'], label='Train Accuracy')\n",
    "plt.plot(history.history['val_accuracy'], label='Validation Accuracy')\n",
    "plt.title('Model Accuracy')\n",
    "plt.xlabel('Epochs')\n",
    "plt.ylabel('Accuracy')\n",
    "plt.legend()\n",
    "plt.show()\n",
    "\n",
    "# Biểu đồ Loss\n",
    "plt.plot(history.history['loss'], label='Train Loss')\n",
    "plt.plot(history.history['val_loss'], label='Validation Loss')\n",
    "plt.title('Model Loss')\n",
    "plt.xlabel('Epochs')\n",
    "plt.ylabel('Loss')\n",
    "plt.legend()\n",
    "plt.show()"
   ]
  },
  {
   "cell_type": "code",
   "execution_count": 51,
   "metadata": {},
   "outputs": [
    {
     "name": "stdout",
     "output_type": "stream",
     "text": [
      "\u001b[1m1/1\u001b[0m \u001b[32m━━━━━━━━━━━━━━━━━━━━\u001b[0m\u001b[37m\u001b[0m \u001b[1m0s\u001b[0m 202ms/step\n",
      "Review: hàng tốt , giao đúng màu , viền đổi màu siêu đẹp , mic cầm vừa tay nhg phải để gần mồm ms nói đc , mic đổi dc giọng , nhiều tính năng , nhỏ nhắn xinh xắn , màu hồng đẹp xinh dã man , shop hỗ trợ nhiệt tình , okk lắmm\n",
      "Sentiment: Tích cực\n",
      "\n",
      "Review: Tiền nào của đấy thôi ạ có hơn 100 nên sp phù hợp vs giá tiền nhé , mic để gần mồm mới thu đc\n",
      "Sentiment: Tích cực\n",
      "\n",
      "Review: Nghe nhạc thì lớn mà karaoke không ok cho lắm nhỏ xíu hát không hay\n",
      "Sentiment: Tích cực\n",
      "\n",
      "Review: Ko có âm thanh nt shop ko tl thỏa đáng, gọi điện chố gửi hàng ko bắt máy, TV ko nhiệt tình\n",
      "Sentiment: Tiêu cực\n",
      "\n",
      "Review: Mic cả 2 đều hát không được\n",
      "Sentiment: Tích cực\n",
      "\n"
     ]
    }
   ],
   "source": [
    "def predict_sentiments_lstm(reviews):\n",
    "    tokenized_texts = tokenizer.texts_to_sequences(reviews)\n",
    "    padded_texts = pad_sequences(tokenized_texts, maxlen=max_len)\n",
    "    \n",
    "    predictions = model.predict(padded_texts)\n",
    "    \n",
    "    label_map = {0: 'Tiêu cực', 1: 'Trung tính', 2: 'Tích cực'}\n",
    "    predicted_labels = [label_map[np.argmax(pred)] for pred in predictions]\n",
    "    \n",
    "    return predicted_labels\n",
    "\n",
    "new_reviews = [\n",
    "    \"hàng tốt , giao đúng màu , viền đổi màu siêu đẹp , mic cầm vừa tay nhg phải để gần mồm ms nói đc , mic đổi dc giọng , nhiều tính năng , nhỏ nhắn xinh xắn , màu hồng đẹp xinh dã man , shop hỗ trợ nhiệt tình , okk lắmm\", #5sao\n",
    "    \"Tiền nào của đấy thôi ạ có hơn 100 nên sp phù hợp vs giá tiền nhé , mic để gần mồm mới thu đc\", #4sao\n",
    "    \"Nghe nhạc thì lớn mà karaoke không ok cho lắm nhỏ xíu hát không hay\", #3sao\n",
    "    \"Ko có âm thanh nt shop ko tl thỏa đáng, gọi điện chố gửi hàng ko bắt máy, TV ko nhiệt tình\",#2sao\n",
    "    \"Mic cả 2 đều hát không được\" #1sao\n",
    "]\n",
    "\n",
    "predicted_sentiments = predict_sentiments_lstm(new_reviews)\n",
    "\n",
    "for review, sentiment in zip(new_reviews, predicted_sentiments):\n",
    "    print(f\"Review: {review}\\nSentiment: {sentiment}\\n\")\n"
   ]
  },
  {
   "cell_type": "code",
   "execution_count": 52,
   "metadata": {},
   "outputs": [
    {
     "name": "stdout",
     "output_type": "stream",
     "text": [
      "Chào mừng bạn đến với hệ thống phân tích cảm xúc!\n",
      "\u001b[1m1/1\u001b[0m \u001b[32m━━━━━━━━━━━━━━━━━━━━\u001b[0m\u001b[37m\u001b[0m \u001b[1m0s\u001b[0m 172ms/step\n",
      "Cảm xúc dự đoán: Tích cực\n",
      "\u001b[1m1/1\u001b[0m \u001b[32m━━━━━━━━━━━━━━━━━━━━\u001b[0m\u001b[37m\u001b[0m \u001b[1m0s\u001b[0m 45ms/step\n",
      "Cảm xúc dự đoán: Tích cực\n",
      "\u001b[1m1/1\u001b[0m \u001b[32m━━━━━━━━━━━━━━━━━━━━\u001b[0m\u001b[37m\u001b[0m \u001b[1m0s\u001b[0m 64ms/step\n",
      "Cảm xúc dự đoán: Tích cực\n",
      "\u001b[1m1/1\u001b[0m \u001b[32m━━━━━━━━━━━━━━━━━━━━\u001b[0m\u001b[37m\u001b[0m \u001b[1m0s\u001b[0m 43ms/step\n",
      "Cảm xúc dự đoán: Tiêu cực\n",
      "Cảm ơn bạn đã sử dụng hệ thống!\n"
     ]
    }
   ],
   "source": [
    "def predict_sentiments_lstm(reviews):\n",
    "    # Chuyển văn bản thành các chuỗi số sử dụng tokenizer đã được huấn luyện\n",
    "    tokenized_texts = tokenizer.texts_to_sequences(reviews)\n",
    "    padded_texts = pad_sequences(tokenized_texts, maxlen=max_len)\n",
    "    \n",
    "    # Dự đoán kết quả\n",
    "    predictions = model.predict(padded_texts)\n",
    "    \n",
    "    # Gán nhãn theo kết quả dự đoán\n",
    "    label_map = {0: 'Tiêu cực', 1: 'Trung tính', 2: 'Tích cực'}\n",
    "    predicted_labels = [label_map[np.argmax(pred)] for pred in predictions]\n",
    "    \n",
    "    return predicted_labels\n",
    "\n",
    "# Nhận đầu vào từ người dùng\n",
    "print(\"Chào mừng bạn đến với hệ thống phân tích cảm xúc!\")\n",
    "while True:\n",
    "    user_input = input(\"Nhập nhận xét của bạn (hoặc gõ 'exit' để thoát): \")\n",
    "    if user_input.lower() == 'exit':\n",
    "        print(\"Cảm ơn bạn đã sử dụng hệ thống!\")\n",
    "        break\n",
    "    \n",
    "    # Gọi hàm dự đoán\n",
    "    predictions = predict_sentiments_lstm([user_input])\n",
    "    print(f\"Cảm xúc dự đoán: {predictions[0]}\")"
   ]
  }
 ],
 "metadata": {
  "kernelspec": {
   "display_name": "Python 3",
   "language": "python",
   "name": "python3"
  },
  "language_info": {
   "codemirror_mode": {
    "name": "ipython",
    "version": 3
   },
   "file_extension": ".py",
   "mimetype": "text/x-python",
   "name": "python",
   "nbconvert_exporter": "python",
   "pygments_lexer": "ipython3",
   "version": "3.11.9"
  }
 },
 "nbformat": 4,
 "nbformat_minor": 2
}
